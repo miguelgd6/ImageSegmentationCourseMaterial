{
 "cells": [
  {
   "cell_type": "code",
   "execution_count": 10,
   "metadata": {},
   "outputs": [],
   "source": [
    "import torch\n",
    "import seaborn as sns\n",
    "import numpy as np"
   ]
  },
  {
   "cell_type": "markdown",
   "metadata": {},
   "source": [
    "Creating simple tensors and makig derivatives "
   ]
  },
  {
   "cell_type": "code",
   "execution_count": 11,
   "metadata": {},
   "outputs": [
    {
     "name": "stdout",
     "output_type": "stream",
     "text": [
      "tensor(14.)\n"
     ]
    }
   ],
   "source": [
    "x = torch.tensor(2.0, requires_grad=True)\n",
    "y = (x-3) * (x-6) * (x-4)\n",
    "\n",
    "# calculate gradients\n",
    "y.backward() # it populates attributes inside the tensor\n",
    "# show gradient of first tensor\n",
    "print(x.grad) # dy/dx "
   ]
  },
  {
   "cell_type": "code",
   "execution_count": 12,
   "metadata": {},
   "outputs": [
    {
     "name": "stdout",
     "output_type": "stream",
     "text": [
      "tensor(15.)\n"
     ]
    }
   ],
   "source": [
    "x = torch.tensor(1.0, requires_grad=True)\n",
    "y = x**3\n",
    "z = 5*y - 4\n",
    "\n",
    "z.backward() # backwards because it makes the derivative from the last variable to the first (x) \n",
    "print(x.grad) # pytorch only creates the derivative with respect to variables that are not functions of other variables \n"
   ]
  },
  {
   "cell_type": "markdown",
   "metadata": {},
   "source": [
    "R2 derivatives "
   ]
  },
  {
   "cell_type": "code",
   "execution_count": 13,
   "metadata": {},
   "outputs": [
    {
     "name": "stdout",
     "output_type": "stream",
     "text": [
      "tensor(44.)\n",
      "tensor(-6.)\n"
     ]
    }
   ],
   "source": [
    "x11 = torch.tensor(2.0, requires_grad=True)\n",
    "x21 = torch.tensor(3.0, requires_grad=True)\n",
    "\n",
    "x12 = 5 * x11 - 3 * x21\n",
    "x22 = 2 * x11**2 + 2 * x21\n",
    "\n",
    "y = 4 * x12 + 3 * x22\n",
    "y.backward()\n",
    "print(x11.grad)\n",
    "print(x21.grad)"
   ]
  },
  {
   "cell_type": "markdown",
   "metadata": {},
   "source": [
    "no such thing as forward attribute of a tensor, it just would obtain the function value for an specific input  "
   ]
  }
 ],
 "metadata": {
  "kernelspec": {
   "display_name": "segmentation",
   "language": "python",
   "name": "python3"
  },
  "language_info": {
   "codemirror_mode": {
    "name": "ipython",
    "version": 3
   },
   "file_extension": ".py",
   "mimetype": "text/x-python",
   "name": "python",
   "nbconvert_exporter": "python",
   "pygments_lexer": "ipython3",
   "version": "3.10.13"
  }
 },
 "nbformat": 4,
 "nbformat_minor": 2
}
